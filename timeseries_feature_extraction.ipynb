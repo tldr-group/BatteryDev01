{
 "metadata": {
  "language_info": {
   "codemirror_mode": {
    "name": "ipython",
    "version": 3
   },
   "file_extension": ".py",
   "mimetype": "text/x-python",
   "name": "python",
   "nbconvert_exporter": "python",
   "pygments_lexer": "ipython3",
   "version": "3.8.5-final"
  },
  "orig_nbformat": 2,
  "kernelspec": {
   "name": "python3",
   "display_name": "Python 3.8.5 64-bit ('BatteryDev01': conda)",
   "metadata": {
    "interpreter": {
     "hash": "a7ad614d5b1d8f1df1ec2a38aa8cd359ccfcca4cad19a20424ad2f87054bd2a2"
    }
   }
  }
 },
 "nbformat": 4,
 "nbformat_minor": 2,
 "cells": [
  {
   "cell_type": "code",
   "execution_count": 1,
   "metadata": {},
   "outputs": [],
   "source": [
    "import pandas as pd\n",
    "import numpy as np\n",
    "import stumpy as sp\n",
    "import matplotlib.pyplot as plt\n",
    "import datetime\n",
    "import matplotlib.dates as dates\n",
    "%matplotlib widget  \n",
    "from ipywidgets import *\n",
    "from matplotlib.patches import Rectangle\n",
    "from matplotlib.pyplot import cm"
   ]
  },
  {
   "cell_type": "code",
   "execution_count": 13,
   "metadata": {},
   "outputs": [],
   "source": [
    "battery_data = pd.concat([pd.read_csv('data/battery_data/2020-{}.csv'.format(month)) for month in range(4, 10)])\n",
    "capacity_data = pd.read_csv('data/testbench_results/testbench_results_first3months.csv')\n",
    "battery_data['datetime'] = pd.to_datetime(battery_data['timestamp'], unit='s')\n",
    "key='voltage'"
   ]
  },
  {
   "cell_type": "code",
   "execution_count": 14,
   "metadata": {},
   "outputs": [
    {
     "output_type": "stream",
     "name": "stdout",
     "text": [
      "(4381,) (14347672,)\n"
     ]
    },
    {
     "output_type": "display_data",
     "data": {
      "text/plain": "Canvas(toolbar=Toolbar(toolitems=[('Home', 'Reset original view', 'home', 'home'), ('Back', 'Back to previous …",
      "application/vnd.jupyter.widget-view+json": {
       "version_major": 2,
       "version_minor": 0,
       "model_id": "ad3e0ba9a781406cb7c3f38619feaedc"
      }
     },
     "metadata": {}
    }
   ],
   "source": [
    "subset = battery_data[battery_data['timestamp']<datetime.datetime(2020, 10, 1, 0, 0, 0).timestamp()]\n",
    "subset = subset[subset['timestamp']>datetime.datetime(2020, 4, 1, 0, 0, 0).timestamp()]\n",
    "subset = subset.set_index('datetime')\n",
    "subset_ma = subset.resample(\"1H\").median()\n",
    "print(subset_ma[key].shape, subset[key].shape)\n",
    "plt.figure()\n",
    "plt.plot(subset_ma.index, subset_ma[key])\n",
    "plt.show()"
   ]
  },
  {
   "cell_type": "code",
   "execution_count": 15,
   "metadata": {},
   "outputs": [],
   "source": [
    "m=17\n",
    "mp = sp.stump(subset_ma[key], m)"
   ]
  },
  {
   "cell_type": "code",
   "execution_count": 16,
   "metadata": {},
   "outputs": [
    {
     "output_type": "display_data",
     "data": {
      "text/plain": "Canvas(toolbar=Toolbar(toolitems=[('Home', 'Reset original view', 'home', 'home'), ('Back', 'Back to previous …",
      "application/vnd.jupyter.widget-view+json": {
       "version_major": 2,
       "version_minor": 0,
       "model_id": "b9d17f17347a48228e75411351eaaf9c"
      }
     },
     "metadata": {}
    }
   ],
   "source": [
    "plt.figure()\n",
    "plt.plot(mp[:, 0])\n",
    "plt.show()"
   ]
  },
  {
   "cell_type": "code",
   "execution_count": 17,
   "metadata": {},
   "outputs": [],
   "source": [
    "all_chain_set, unanchored_chain = sp.allc(mp[:, 2], mp[:, 3])"
   ]
  },
  {
   "cell_type": "code",
   "execution_count": 18,
   "metadata": {},
   "outputs": [
    {
     "output_type": "display_data",
     "data": {
      "text/plain": "Canvas(toolbar=Toolbar(toolitems=[('Home', 'Reset original view', 'home', 'home'), ('Back', 'Back to previous …",
      "application/vnd.jupyter.widget-view+json": {
       "version_major": 2,
       "version_minor": 0,
       "model_id": "4050d23a08f34fa0bd11e5f8f3560460"
      }
     },
     "metadata": {}
    }
   ],
   "source": [
    "plt.figure()\n",
    "start_times = []\n",
    "plt.plot(subset_ma[key], linewidth=1, color='black')\n",
    "for i in range(unanchored_chain.shape[0]):\n",
    "    y = subset_ma[key].iloc[unanchored_chain[i]:unanchored_chain[i]+m]\n",
    "    x = y.index.values\n",
    "    start_times.append(x[0])\n",
    "    plt.plot(x, y, linewidth=3)\n",
    "\n",
    "plt.show()"
   ]
  },
  {
   "cell_type": "code",
   "execution_count": 19,
   "metadata": {},
   "outputs": [
    {
     "output_type": "display_data",
     "data": {
      "text/plain": "Canvas(toolbar=Toolbar(toolitems=[('Home', 'Reset original view', 'home', 'home'), ('Back', 'Back to previous …",
      "application/vnd.jupyter.widget-view+json": {
       "version_major": 2,
       "version_minor": 0,
       "model_id": "b8280c41b7354adb86d84369439f6fda"
      }
     },
     "metadata": {}
    }
   ],
   "source": [
    "plt.figure()\n",
    "means = []\n",
    "stdevs = []\n",
    "color=cm.cividis(np.linspace(0,1,unanchored_chain.shape[0]))\n",
    "for i in range(unanchored_chain.shape[0]):\n",
    "    y = subset_ma[key].iloc[unanchored_chain[i]:unanchored_chain[i]+m]\n",
    "    means.append(np.mean(y))\n",
    "    stdevs.append(np.std(y))\n",
    "    # x = y.index.values\n",
    "    plt.plot(x, y, linewidth=3, color=color[i], alpha=0.3)\n",
    "\n",
    "plt.show()"
   ]
  },
  {
   "cell_type": "code",
   "execution_count": 20,
   "metadata": {},
   "outputs": [
    {
     "output_type": "display_data",
     "data": {
      "text/plain": "Canvas(toolbar=Toolbar(toolitems=[('Home', 'Reset original view', 'home', 'home'), ('Back', 'Back to previous …",
      "application/vnd.jupyter.widget-view+json": {
       "version_major": 2,
       "version_minor": 0,
       "model_id": "fc2de71b65aa4cc1975628c4159232c8"
      }
     },
     "metadata": {}
    },
    {
     "output_type": "execute_result",
     "data": {
      "text/plain": [
       "<matplotlib.legend.Legend at 0x7ffd7d6721f0>"
      ]
     },
     "metadata": {},
     "execution_count": 20
    }
   ],
   "source": [
    "# plt.figure()\n",
    "capacity_data['datetime'] = pd.to_datetime(capacity_data['timestamp'], unit='s')\n",
    "color1 = plt.cm.viridis(0)\n",
    "color2 = plt.cm.viridis(0.8)\n",
    "fig, host = plt.subplots(figsize=(8,5))\n",
    "\n",
    "par1 = host.twinx()\n",
    "host.set_ylim(-11.27, -11.42)\n",
    "host.set_xlabel(\"Time\")\n",
    "host.set_ylabel(\"Capacity\")\n",
    "par1.set_ylabel(\"Mean motif value\")\n",
    "p1, = host.plot(capacity_data['datetime'], capacity_data['Q_discharge'], color=color1, label=\"Capacity\")\n",
    "p2 = par1.errorbar(start_times, means, yerr=stdevs, color=color2, label=\"Mean motif value\")\n",
    "lns = [p1, p2]\n",
    "host.legend(handles=lns, loc='best')\n",
    "# plt.plot(start_times, means, capacity_data['datetime'], capacity_data['Q_discharge'])"
   ]
  },
  {
   "cell_type": "code",
   "execution_count": 21,
   "metadata": {},
   "outputs": [],
   "source": [
    "class timeseries_chain_motif:\n",
    "    def __init__(self, subset_ma, key, m):\n",
    "        self.subset_ma = subset_ma\n",
    "        self.key = key\n",
    "        self.m = m\n",
    "        self.mp = sp.stump(subset_ma[key], m)  \n",
    "        self.all_chain_set = sp.allc(mp[:, 2], mp[:, 3])[0]\n",
    "        self.unanchored_chain = sp.allc(mp[:, 2], mp[:, 3])[1]\n",
    "    \n",
    "    def mp_plot(self, show=True):\n",
    "        if show:\n",
    "            plt.figure()\n",
    "        start_times = []\n",
    "        if show:\n",
    "            plt.plot(self.subset_ma[self.key], linewidth=1, color='black')\n",
    "        for i in range(self.unanchored_chain.shape[0]):\n",
    "            y = self.subset_ma[self.key].iloc[self.unanchored_chain[i]:self.unanchored_chain[i]+self.m]\n",
    "            x = y.index.values\n",
    "            start_times.append(x[0])\n",
    "            if show:\n",
    "                plt.plot(x, y, linewidth=3)\n",
    "        self.start_times = start_times\n",
    "\n",
    "    def motif_compare_plot(self, show=True):\n",
    "        if show:\n",
    "            plt.figure()\n",
    "        means = []\n",
    "        stdevs = []\n",
    "\n",
    "        color=cm.cividis(np.linspace(0,1,self.unanchored_chain.shape[0]))\n",
    "        for i in range(self.unanchored_chain.shape[0]):\n",
    "            y = self.subset_ma[self.key].iloc[self.unanchored_chain[i]:self.unanchored_chain[i]+self.m]\n",
    "            means.append(np.mean(y))\n",
    "            stdevs.append(np.std(y))\n",
    "            # x = y.index.values\n",
    "            if show:\n",
    "                plt.plot(x, y, linewidth=3, color=color[i], alpha=0.3)\n",
    "        self.means = means\n",
    "        self.stdevs = stdevs\n",
    "    \n",
    "    def capacity_compare_plot(self, capacity_data):\n",
    "        self.mp_plot(show=False)\n",
    "        self.motif_compare_plot(show=False)\n",
    "        capacity_data['datetime'] = pd.to_datetime(capacity_data['timestamp'], unit='s')\n",
    "        color1 = plt.cm.viridis(0)\n",
    "        color2 = plt.cm.viridis(0.8)\n",
    "        fig, host = plt.subplots(figsize=(8,5))\n",
    "        par1 = host.twinx()\n",
    "        host.set_ylim(-11.27, -11.42)\n",
    "        host.set_xlabel(\"Time\")\n",
    "        host.set_ylabel(\"Capacity\")\n",
    "        par1.set_ylabel(\"Mean motif value\")\n",
    "        p1, = host.plot(capacity_data['datetime'], capacity_data['Q_discharge'], color=color1, label=\"Capacity\")\n",
    "        p2 = par1.errorbar(self.start_times, self.means, yerr=self.stdevs, color=color2, label=\"Mean motif value\")\n",
    "        lns = [p1, p2]\n",
    "        host.legend(handles=lns, loc='best')"
   ]
  },
  {
   "cell_type": "code",
   "execution_count": 22,
   "metadata": {},
   "outputs": [],
   "source": [
    "def subset_data(data, resample):\n",
    "    subset = data.set_index('datetime')\n",
    "    subset_ma = subset.resample(resample).mean()\n",
    "    return subset_ma"
   ]
  },
  {
   "cell_type": "code",
   "execution_count": 12,
   "metadata": {},
   "outputs": [
    {
     "output_type": "error",
     "ename": "KeyError",
     "evalue": "\"None of ['datetime'] are in the columns\"",
     "traceback": [
      "\u001b[0;31m---------------------------------------------------------------------------\u001b[0m",
      "\u001b[0;31mKeyError\u001b[0m                                  Traceback (most recent call last)",
      "\u001b[0;32m<ipython-input-12-a37e7cdbbff0>\u001b[0m in \u001b[0;36m<module>\u001b[0;34m\u001b[0m\n\u001b[0;32m----> 1\u001b[0;31m \u001b[0mtscm\u001b[0m \u001b[0;34m=\u001b[0m \u001b[0mtimeseries_chain_motif\u001b[0m\u001b[0;34m(\u001b[0m\u001b[0msubset_data\u001b[0m\u001b[0;34m(\u001b[0m\u001b[0mbattery_data\u001b[0m\u001b[0;34m,\u001b[0m \u001b[0;34m'1H'\u001b[0m\u001b[0;34m)\u001b[0m\u001b[0;34m,\u001b[0m \u001b[0;34m'voltage'\u001b[0m\u001b[0;34m,\u001b[0m \u001b[0;36m34\u001b[0m\u001b[0;34m)\u001b[0m\u001b[0;34m\u001b[0m\u001b[0;34m\u001b[0m\u001b[0m\n\u001b[0m\u001b[1;32m      2\u001b[0m \u001b[0mtscm\u001b[0m\u001b[0;34m.\u001b[0m\u001b[0mcapacity_compare_plot\u001b[0m\u001b[0;34m(\u001b[0m\u001b[0mcapacity_data\u001b[0m\u001b[0;34m)\u001b[0m\u001b[0;34m\u001b[0m\u001b[0;34m\u001b[0m\u001b[0m\n",
      "\u001b[0;32m<ipython-input-11-a9ef9c5a2a19>\u001b[0m in \u001b[0;36msubset_data\u001b[0;34m(data, resample)\u001b[0m\n\u001b[1;32m      1\u001b[0m \u001b[0;32mdef\u001b[0m \u001b[0msubset_data\u001b[0m\u001b[0;34m(\u001b[0m\u001b[0mdata\u001b[0m\u001b[0;34m,\u001b[0m \u001b[0mresample\u001b[0m\u001b[0;34m)\u001b[0m\u001b[0;34m:\u001b[0m\u001b[0;34m\u001b[0m\u001b[0;34m\u001b[0m\u001b[0m\n\u001b[0;32m----> 2\u001b[0;31m     \u001b[0msubset\u001b[0m \u001b[0;34m=\u001b[0m \u001b[0mdata\u001b[0m\u001b[0;34m.\u001b[0m\u001b[0mset_index\u001b[0m\u001b[0;34m(\u001b[0m\u001b[0;34m'datetime'\u001b[0m\u001b[0;34m)\u001b[0m\u001b[0;34m\u001b[0m\u001b[0;34m\u001b[0m\u001b[0m\n\u001b[0m\u001b[1;32m      3\u001b[0m     \u001b[0msubset_ma\u001b[0m \u001b[0;34m=\u001b[0m \u001b[0msubset\u001b[0m\u001b[0;34m.\u001b[0m\u001b[0mresample\u001b[0m\u001b[0;34m(\u001b[0m\u001b[0mresample\u001b[0m\u001b[0;34m)\u001b[0m\u001b[0;34m.\u001b[0m\u001b[0mmean\u001b[0m\u001b[0;34m(\u001b[0m\u001b[0;34m)\u001b[0m\u001b[0;34m\u001b[0m\u001b[0;34m\u001b[0m\u001b[0m\n\u001b[1;32m      4\u001b[0m     \u001b[0;32mreturn\u001b[0m \u001b[0msubset_ma\u001b[0m\u001b[0;34m\u001b[0m\u001b[0;34m\u001b[0m\u001b[0m\n",
      "\u001b[0;32m~/anaconda3/envs/BatteryDev01/lib/python3.8/site-packages/pandas/core/frame.py\u001b[0m in \u001b[0;36mset_index\u001b[0;34m(self, keys, drop, append, inplace, verify_integrity)\u001b[0m\n\u001b[1;32m   4722\u001b[0m \u001b[0;34m\u001b[0m\u001b[0m\n\u001b[1;32m   4723\u001b[0m         \u001b[0;32mif\u001b[0m \u001b[0mmissing\u001b[0m\u001b[0;34m:\u001b[0m\u001b[0;34m\u001b[0m\u001b[0;34m\u001b[0m\u001b[0m\n\u001b[0;32m-> 4724\u001b[0;31m             \u001b[0;32mraise\u001b[0m \u001b[0mKeyError\u001b[0m\u001b[0;34m(\u001b[0m\u001b[0;34mf\"None of {missing} are in the columns\"\u001b[0m\u001b[0;34m)\u001b[0m\u001b[0;34m\u001b[0m\u001b[0;34m\u001b[0m\u001b[0m\n\u001b[0m\u001b[1;32m   4725\u001b[0m \u001b[0;34m\u001b[0m\u001b[0m\n\u001b[1;32m   4726\u001b[0m         \u001b[0;32mif\u001b[0m \u001b[0minplace\u001b[0m\u001b[0;34m:\u001b[0m\u001b[0;34m\u001b[0m\u001b[0;34m\u001b[0m\u001b[0m\n",
      "\u001b[0;31mKeyError\u001b[0m: \"None of ['datetime'] are in the columns\""
     ]
    }
   ],
   "source": [
    "tscm = timeseries_chain_motif(subset_data(battery_data, '1H'), 'voltage', 34)\n",
    "tscm.capacity_compare_plot(capacity_data)"
   ]
  },
  {
   "cell_type": "code",
   "execution_count": null,
   "metadata": {},
   "outputs": [],
   "source": [
    "m_vals = np.arange(4,34,4)\n",
    "for m in m_vals:\n",
    "    tscm = timeseries_chain_motif(subset_ma, 'voltage', m)\n",
    "    tscm.capacity_compare_plot(capacity_data)\n",
    "    plt.title(m)"
   ]
  },
  {
   "cell_type": "code",
   "execution_count": null,
   "metadata": {},
   "outputs": [],
   "source": []
  }
 ]
}