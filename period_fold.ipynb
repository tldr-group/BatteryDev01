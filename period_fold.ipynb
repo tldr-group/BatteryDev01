{
 "metadata": {
  "language_info": {
   "codemirror_mode": {
    "name": "ipython",
    "version": 3
   },
   "file_extension": ".py",
   "mimetype": "text/x-python",
   "name": "python",
   "nbconvert_exporter": "python",
   "pygments_lexer": "ipython3",
   "version": "3.8.5-final"
  },
  "orig_nbformat": 2,
  "kernelspec": {
   "name": "python3",
   "display_name": "Python 3",
   "language": "python"
  }
 },
 "nbformat": 4,
 "nbformat_minor": 2,
 "cells": [
  {
   "source": [
    "## Battery Aging Challenge\n",
    "Estimating the remaining capacity form field data.\n",
    "\n",
    "### Input\n",
    "* 6 months of battery voltage, battery current and battery temperature (stored in monthly .csv files: 2020-04 to 2020-10)\n",
    "* regular testbench capacity measurements for the first 3 months\n",
    "* chemistry: NMC\n",
    "\n",
    "### Task\n",
    "Estimate the remaining capacity at the following dates:\n",
    "* 2020-07-11\n",
    "* 2020-08-04\n",
    "* 2020-08-28\n",
    "* 2020-09-22\n",
    "* 2020-10-01\n",
    "\n",
    "### Gotcha\n",
    "Capacity test related time series were removed from the data to prevent the solution of plain coulomb counting for those tests. Therefore you will recognize data gaps at certain dates."
   ],
   "cell_type": "markdown",
   "metadata": {}
  },
  {
   "cell_type": "code",
   "execution_count": 4,
   "metadata": {},
   "outputs": [],
   "source": [
    "import pandas as pd\n",
    "import datetime\n",
    "import matplotlib.pyplot as plt\n",
    "from utils import plot_battery_data, plot_testbench_results\n",
    "import numpy as np\n",
    "%matplotlib widget  \n",
    "from ipywidgets import *\n",
    "import matplotlib.pyplot as plt\n"
   ]
  },
  {
   "cell_type": "code",
   "execution_count": 5,
   "metadata": {},
   "outputs": [
    {
     "output_type": "display_data",
     "data": {
      "text/plain": "Canvas(toolbar=Toolbar(toolitems=[('Home', 'Reset original view', 'home', 'home'), ('Back', 'Back to previous …",
      "application/vnd.jupyter.widget-view+json": {
       "version_major": 2,
       "version_minor": 0,
       "model_id": "d5d61387bcef40caa11f1f520e549d3b"
      }
     },
     "metadata": {}
    }
   ],
   "source": [
    "# load dataset\n",
    "battery_data = pd.concat([pd.read_csv('data/battery_data/2020-{}.csv'.format(month)) for month in range(4, 10)])\n",
    "battery_data['datetime'] = pd.to_datetime(battery_data['timestamp'], unit='s')\n",
    "battery_data['power'] = battery_data['current'] * battery_data['voltage']\n",
    "# extract and plot one month.\n",
    "subset = battery_data[battery_data['timestamp']<datetime.datetime(2020, 4, 29, 0, 0, 0).timestamp()]\n",
    "plt.figure()\n",
    "# change the key to look for motifs in different datatypes\n",
    "key = 'voltage'\n",
    "plt.plot(subset['datetime'], subset[key])\n",
    "plt.show()\n",
    "# Use this graph to identify the motif you want to search for. Enter the start and end date and time for your motif in the next cell. \n",
    "# Or to use default motifs skip this"
   ]
  },
  {
   "cell_type": "code",
   "execution_count": 6,
   "metadata": {},
   "outputs": [
    {
     "output_type": "display_data",
     "data": {
      "text/plain": "Canvas(toolbar=Toolbar(toolitems=[('Home', 'Reset original view', 'home', 'home'), ('Back', 'Back to previous …",
      "application/vnd.jupyter.widget-view+json": {
       "version_major": 2,
       "version_minor": 0,
       "model_id": "a3fe2a30914e44abaddf9a4d68c0ab63"
      }
     },
     "metadata": {}
    },
    {
     "output_type": "execute_result",
     "data": {
      "text/plain": [
       "[<matplotlib.lines.Line2D at 0x7f7802ef1a30>]"
      ]
     },
     "metadata": {},
     "execution_count": 6
    }
   ],
   "source": [
    "# Enter the start and end date and time for your motif here. Note that for some reason you need to add one hour on\n",
    "# here are some premade motifs\n",
    "\n",
    "# voltage hour\n",
    "# motif = battery_data[(datetime.datetime(2020, 4, 2, 12, 30, 47).timestamp() < battery_data['timestamp']) &\n",
    "#                      (datetime.datetime(2020, 4, 2, 13, 33, 57).timestamp() > battery_data['timestamp'])]\n",
    "\n",
    "# voltage charge\n",
    "# so here we are just searching for the charge part of the cycle\n",
    "motif = battery_data[(datetime.datetime(2020, 4, 2, 15, 26, 50).timestamp() < battery_data['timestamp']) &\n",
    "                     (datetime.datetime(2020, 4, 2, 15, 34, 38).timestamp() > battery_data['timestamp'])]\n",
    "\n",
    "# power charging\n",
    "# motif = battery_data[(datetime.datetime(2020, 4, 2, 13, 29, 38).timestamp() < battery_data['timestamp']) &\n",
    "#                      (datetime.datetime(2020, 4, 2, 13, 33, 56).timestamp() > battery_data['timestamp'])]\n",
    "\n",
    "# current hour\n",
    "# motif = battery_data[(datetime.datetime(2020, 4, 2, 12, 30, 53).timestamp() < battery_data['timestamp']) &\n",
    "#                      (datetime.datetime(2020, 4, 2, 13, 34, 8).timestamp() > battery_data['timestamp'])]\n",
    "\n",
    "# day\n",
    "# motif = battery_data[(datetime.datetime(2020, 4, 2, 11, 34, 3).timestamp() < battery_data['timestamp']) &\n",
    "#                      (datetime.datetime(2020, 4, 3, 5, 1, 17).timestamp() > battery_data['timestamp'])]\n",
    "\n",
    "\n",
    "# The data is very high resolution, so it can be slow to search. Best to reduce resolution with sampling\n",
    "# normalise the motif to mean of zero for comparison\n",
    "sampling = 5\n",
    "# plot the motif\n",
    "plt.figure()\n",
    "data, motif = battery_data[::sampling][key].to_numpy(), motif[::sampling][key].to_numpy()\n",
    "plt.plot(motif)\n",
    "\n",
    "# This is the motif we will search for"
   ]
  },
  {
   "cell_type": "code",
   "execution_count": 7,
   "metadata": {},
   "outputs": [],
   "source": [
    "\n",
    "# Here we perform a very simple (and slow!) search for the motif, where 'errors' is difference between the motif and the sample\n",
    "motif_norm = motif - np.mean(motif)\n",
    "\n",
    "l = len(motif)\n",
    "errors = []\n",
    "for start in range(data.shape[0] - l):\n",
    "    samp = data[start:start + l] - np.mean(data[start:start + l])\n",
    "    errors.append(np.mean((samp - motif_norm)**2))"
   ]
  },
  {
   "cell_type": "code",
   "execution_count": 8,
   "metadata": {},
   "outputs": [
    {
     "output_type": "display_data",
     "data": {
      "text/plain": "Canvas(toolbar=Toolbar(toolitems=[('Home', 'Reset original view', 'home', 'home'), ('Back', 'Back to previous …",
      "application/vnd.jupyter.widget-view+json": {
       "version_major": 2,
       "version_minor": 0,
       "model_id": "c383e65ef2b54fd4b2b633a3697850f7"
      }
     },
     "metadata": {}
    }
   ],
   "source": [
    "plt.figure()\n",
    "plt.plot(errors)\n",
    "plt.show()\n",
    "# Zoom in very far to see the errors near to zero - these are the parts of the data which fit the motif"
   ]
  },
  {
   "cell_type": "code",
   "execution_count": 36,
   "metadata": {},
   "outputs": [
    {
     "output_type": "display_data",
     "data": {
      "text/plain": "Canvas(toolbar=Toolbar(toolitems=[('Home', 'Reset original view', 'home', 'home'), ('Back', 'Back to previous …",
      "application/vnd.jupyter.widget-view+json": {
       "version_major": 2,
       "version_minor": 0,
       "model_id": "ce81c0d3aba6430c8295598bb8a92e02"
      }
     },
     "metadata": {}
    },
    {
     "output_type": "stream",
     "name": "stdout",
     "text": [
      "2672\n"
     ]
    }
   ],
   "source": [
    "error_cutoff = 0.0001\n",
    "dataset_v = []\n",
    "dataset_c = []\n",
    "prev_start = - l\n",
    "n = 0\n",
    "fig, axs = plt.subplots(3)\n",
    "fig.set_size_inches(12, 10)\n",
    "for start, error in enumerate(errors):\n",
    "    if (error < error_cutoff) & (start - l >= prev_start):\n",
    "        prev_start = start\n",
    "        c = start/len(errors)\n",
    "        # plt.plot(data[start:start + l] - np.mean(data[start:start + l]) - motif, color = (c, 1-c, 0), alpha=0.02)\n",
    "        for ax, key in zip(axs.ravel(), ['current', 'voltage', 'power']):\n",
    "            data = battery_data[key][::sampling].to_numpy()\n",
    "            ax.plot(data[start:start + l], color = (c, 1-c, 1-c), alpha=0.01)\n",
    "            ax.set_ylabel(key)\n",
    "            if key=='current':\n",
    "                dataset_c.append(data[start:start + l])\n",
    "            if key=='voltage':\n",
    "                dataset_v.append(data[start:start + l])\n",
    "        # plt.plot(, color = (1, 1, 0), alpha=1)\n",
    "        n+=1\n",
    "print(n)\n",
    "plt.show()\n"
   ]
  },
  {
   "cell_type": "code",
   "execution_count": 51,
   "metadata": {},
   "outputs": [
    {
     "output_type": "stream",
     "name": "stdout",
     "text": [
      "(2672, 94)\n"
     ]
    },
    {
     "output_type": "display_data",
     "data": {
      "text/plain": "Canvas(toolbar=Toolbar(toolitems=[('Home', 'Reset original view', 'home', 'home'), ('Back', 'Back to previous …",
      "application/vnd.jupyter.widget-view+json": {
       "version_major": 2,
       "version_minor": 0,
       "model_id": "9b73ec3077ac46eab4905e597ae37f6b"
      }
     },
     "metadata": {}
    },
    {
     "output_type": "display_data",
     "data": {
      "text/plain": "Canvas(toolbar=Toolbar(toolitems=[('Home', 'Reset original view', 'home', 'home'), ('Back', 'Back to previous …",
      "application/vnd.jupyter.widget-view+json": {
       "version_major": 2,
       "version_minor": 0,
       "model_id": "fc77d2ff02094f56b9c967a93663dbf1"
      }
     },
     "metadata": {}
    }
   ],
   "source": [
    "print(np.array(dataset).shape)\n",
    "line_v = np.mean(dataset_v)\n",
    "lines_v = np.mean(dataset_v, axis=1)\n",
    "plt.figure()\n",
    "fig, axs = plt.subplots(3)\n",
    "# plt.plot(lines)\n",
    "# linear_model=np.polyfit(np.arange(len(lines)),lines,1)\n",
    "# linear_model_fn=np.poly1d(linear_model)\n",
    "# x_s=np.arange(len(lines))\n",
    "plot_line_v = []\n",
    "sum = 0\n",
    "for i in range(len(lines_v)):\n",
    "    sum += lines_v[i]\n",
    "    plot_line_v.append(sum/(i+1))\n",
    "voltage_line = np.array(plot_line_v)[250:] \n",
    "axs[0].plot(voltage_line,color=\"red\")\n",
    "axs[0].title.set_text('voltage')\n",
    "# jump=80\n",
    "# for i in range(0,len(lines_v),jump):\n",
    "#     if i+jump<len(lines_v):\n",
    "#         cur_lines = 0\n",
    "#         for j in range(jump):\n",
    "#             cur_lines += lines_v[i+j]\n",
    "#         plot_line_v.append(cur_lines/jump)\n",
    "# voltage_line = np.array(plot_line_v)-line_v + 1\n",
    "# plt.plot(voltage_line, color=\"red\")\n",
    "line_c = np.mean(dataset_c)\n",
    "lines_c = np.mean(dataset_c, axis=1)\n",
    "# plt.figure()\n",
    "# plt.plot(lines)\n",
    "# linear_model=np.polyfit(np.arange(len(lines)),lines,1)\n",
    "# linear_model_fn=np.poly1d(linear_model)\n",
    "# x_s=np.arange(len(lines))\n",
    "plot_line_c = []\n",
    "sum = 0\n",
    "for i in range(len(lines_c)):\n",
    "    sum += lines_c[i]\n",
    "    plot_line_c.append(sum/(i+1))\n",
    "current_line = np.array(plot_line_c)[250:]\n",
    "axs[1].plot(current_line,color=\"Green\")\n",
    "axs[1].title.set_text('current')\n",
    "# jump=250\n",
    "# for i in range(0,len(lines_c),jump):\n",
    "#     if i+jump<len(lines_c):\n",
    "#         cur_lines = 0\n",
    "#         for j in range(jump):\n",
    "#             cur_lines += lines_c[i+j]\n",
    "#         plot_line_c.append(cur_lines/jump)\n",
    "# current_line = np.array(plot_line_c)-line_c + \n",
    "# plt.plot(current_line, color=\"Green\")\n",
    "power_line = np.multiply(voltage_line, current_line)\n",
    "axs[2].plot(power_line, color=\"Blue\")\n",
    "axs[2].title.set_text('power')\n",
    "plt.show()"
   ]
  },
  {
   "cell_type": "code",
   "execution_count": 18,
   "metadata": {},
   "outputs": [
    {
     "output_type": "display_data",
     "data": {
      "text/plain": "Canvas(toolbar=Toolbar(toolitems=[('Home', 'Reset original view', 'home', 'home'), ('Back', 'Back to previous …",
      "application/vnd.jupyter.widget-view+json": {
       "version_major": 2,
       "version_minor": 0,
       "model_id": "83ce424d923b42ef8710ea71353d370f"
      }
     },
     "metadata": {}
    },
    {
     "output_type": "execute_result",
     "data": {
      "text/plain": [
       "<matplotlib.image.AxesImage at 0x7f77d3fcdf10>"
      ]
     },
     "metadata": {},
     "execution_count": 18
    }
   ],
   "source": [
    "\n",
    "plt.figure()\n",
    "plt.imshow(np.array(dataset - np.mean(dataset, axis=0)))"
   ]
  },
  {
   "cell_type": "code",
   "execution_count": null,
   "metadata": {},
   "outputs": [],
   "source": [
    "plt.figure()\n",
    "step = 100\n",
    "for s in range(0, n-step, step):\n",
    "    plt.plot(abs(np.mean(dataset[s:s+step] - np.mean(dataset, axis=0), axis=0)), c =( s/887, 1-s/887, 1-s/887), linewidth=0.7)\n",
    "    # plt.plot(np.mean(dataset[s:s+step] - np.mean(dataset, axis=0), axis=0), c =( s/887, 1-s/887, 1-s/887), linewidth=0.7)\n"
   ]
  },
  {
   "cell_type": "code",
   "execution_count": null,
   "metadata": {},
   "outputs": [],
   "source": []
  },
  {
   "cell_type": "code",
   "execution_count": null,
   "metadata": {},
   "outputs": [],
   "source": []
  }
 ]
}