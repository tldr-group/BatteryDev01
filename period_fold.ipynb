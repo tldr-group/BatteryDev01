{
 "metadata": {
  "language_info": {
   "codemirror_mode": {
    "name": "ipython",
    "version": 3
   },
   "file_extension": ".py",
   "mimetype": "text/x-python",
   "name": "python",
   "nbconvert_exporter": "python",
   "pygments_lexer": "ipython3",
   "version": "3.7.4-final"
  },
  "orig_nbformat": 2,
  "kernelspec": {
   "name": "python3",
   "display_name": "Python 3.7.4 64-bit (conda)",
   "metadata": {
    "interpreter": {
     "hash": "771f48385ba6e5d1bb1648ef2d8f2aed6d804dc788773bfe8f9a9d23c636b468"
    }
   }
  }
 },
 "nbformat": 4,
 "nbformat_minor": 2,
 "cells": [
  {
   "source": [
    "## Battery Aging Challenge\n",
    "Estimating the remaining capacity form field data.\n",
    "\n",
    "### Input\n",
    "* 6 months of battery voltage, battery current and battery temperature (stored in monthly .csv files: 2020-04 to 2020-10)\n",
    "* regular testbench capacity measurements for the first 3 months\n",
    "* chemistry: NMC\n",
    "\n",
    "### Task\n",
    "Estimate the remaining capacity at the following dates:\n",
    "* 2020-07-11\n",
    "* 2020-08-04\n",
    "* 2020-08-28\n",
    "* 2020-09-22\n",
    "* 2020-10-01\n",
    "\n",
    "### Gotcha\n",
    "Capacity test related time series were removed from the data to prevent the solution of plain coulomb counting for those tests. Therefore you will recognize data gaps at certain dates."
   ],
   "cell_type": "markdown",
   "metadata": {}
  },
  {
   "cell_type": "code",
   "execution_count": null,
   "metadata": {},
   "outputs": [],
   "source": [
    "import pandas as pd\n",
    "import datetime\n",
    "import matplotlib.pyplot as plt\n",
    "from utils import plot_battery_data, plot_testbench_results\n",
    "import numpy as np\n",
    "%matplotlib widget  \n",
    "from ipywidgets import *\n",
    "import matplotlib.pyplot as plt\n"
   ]
  },
  {
   "cell_type": "code",
   "execution_count": null,
   "metadata": {},
   "outputs": [],
   "source": [
    "battery_data = pd.concat([pd.read_csv('data/battery_data/2020-{}.csv'.format(month)) for month in range(4, 10)])\n",
    "\n",
    "battery_data['datetime'] = pd.to_datetime(battery_data['timestamp'], unit='s')\n",
    "# cutting out 2 days\n",
    "subset = battery_data[battery_data['timestamp']<datetime.datetime(2020, 4, 29, 0, 0, 0).timestamp()]\n"
   ]
  },
  {
   "cell_type": "code",
   "execution_count": null,
   "metadata": {},
   "outputs": [],
   "source": [
    "plt.figure()\n",
    "plt.plot(subset['datetime'], subset['voltage'])\n",
    "plt.show()"
   ]
  },
  {
   "cell_type": "code",
   "execution_count": null,
   "metadata": {},
   "outputs": [],
   "source": [
    "motif = battery_data[(datetime.datetime(2020, 4, 2, 11, 34, 3).timestamp() < battery_data['timestamp']) &\n",
    "                     (datetime.datetime(2020, 4, 3, 5, 1, 17).timestamp() > battery_data['timestamp'])]\n",
    "\n",
    "plt.figure()\n",
    "plt.plot(motif['datetime'], motif['voltage'])"
   ]
  },
  {
   "cell_type": "code",
   "execution_count": null,
   "metadata": {},
   "outputs": [],
   "source": [
    "sampling = 100\n",
    "\n",
    "data, motif = battery_data[::sampling]['voltage'].to_numpy(), motif[::sampling]['voltage'].to_numpy()\n",
    "motif = motif - np.mean(motif)\n",
    "key = 'voltage'\n",
    "\n",
    "l = len(motif)\n",
    "errors = []\n",
    "for start in range(data.shape[0] - l):\n",
    "    samp = data[start:start + l] - np.mean(data[start:start + l])\n",
    "    errors.append(np.mean(abs(samp - motif)))"
   ]
  },
  {
   "cell_type": "code",
   "execution_count": null,
   "metadata": {},
   "outputs": [],
   "source": [
    "plt.figure()\n",
    "plt.plot(errors)\n",
    "plt.show()"
   ]
  },
  {
   "cell_type": "code",
   "execution_count": null,
   "metadata": {},
   "outputs": [],
   "source": [
    "error_cutoff = 0.02\n",
    "dataset = []\n",
    "plt.figure()\n",
    "prev_start = -l\n",
    "for start, error in enumerate(errors):\n",
    "    if (error < error_cutoff) & (start - l >= prev_start):\n",
    "        prev_start = start\n",
    "        plt.plot(data[start:start + l])\n",
    "        dataset.append(data[start:start + l])\n",
    "plt.show()\n"
   ]
  },
  {
   "cell_type": "code",
   "execution_count": null,
   "metadata": {},
   "outputs": [],
   "source": [
    "len(dataset)\n",
    "plt.figure()\n",
    "plt.imshow(np.array(dataset))"
   ]
  },
  {
   "cell_type": "code",
   "execution_count": null,
   "metadata": {},
   "outputs": [],
   "source": []
  }
 ]
}