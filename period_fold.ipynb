{
 "metadata": {
  "language_info": {
   "codemirror_mode": {
    "name": "ipython",
    "version": 3
   },
   "file_extension": ".py",
   "mimetype": "text/x-python",
   "name": "python",
   "nbconvert_exporter": "python",
   "pygments_lexer": "ipython3",
   "version": "3.7.4-final"
  },
  "orig_nbformat": 2,
  "kernelspec": {
   "name": "python3",
   "display_name": "Python 3.7.4 64-bit (conda)",
   "metadata": {
    "interpreter": {
     "hash": "771f48385ba6e5d1bb1648ef2d8f2aed6d804dc788773bfe8f9a9d23c636b468"
    }
   }
  }
 },
 "nbformat": 4,
 "nbformat_minor": 2,
 "cells": [
  {
   "source": [
    "## Battery Aging Challenge\n",
    "Estimating the remaining capacity form field data.\n",
    "\n",
    "### Input\n",
    "* 6 months of battery voltage, battery current and battery temperature (stored in monthly .csv files: 2020-04 to 2020-10)\n",
    "* regular testbench capacity measurements for the first 3 months\n",
    "* chemistry: NMC\n",
    "\n",
    "### Task\n",
    "Estimate the remaining capacity at the following dates:\n",
    "* 2020-07-11\n",
    "* 2020-08-04\n",
    "* 2020-08-28\n",
    "* 2020-09-22\n",
    "* 2020-10-01\n",
    "\n",
    "### Gotcha\n",
    "Capacity test related time series were removed from the data to prevent the solution of plain coulomb counting for those tests. Therefore you will recognize data gaps at certain dates."
   ],
   "cell_type": "markdown",
   "metadata": {}
  },
  {
   "cell_type": "code",
   "execution_count": 1,
   "metadata": {},
   "outputs": [],
   "source": [
    "import pandas as pd\n",
    "import datetime\n",
    "import matplotlib.pyplot as plt\n",
    "from utils import plot_battery_data, plot_testbench_results\n",
    "import numpy as np\n",
    "%matplotlib widget  \n",
    "from ipywidgets import *\n",
    "import matplotlib.pyplot as plt\n"
   ]
  },
  {
   "cell_type": "code",
   "execution_count": 33,
   "metadata": {},
   "outputs": [
    {
     "output_type": "display_data",
     "data": {
      "text/plain": "Canvas(toolbar=Toolbar(toolitems=[('Home', 'Reset original view', 'home', 'home'), ('Back', 'Back to previous …",
      "application/vnd.jupyter.widget-view+json": {
       "version_major": 2,
       "version_minor": 0,
       "model_id": "e5f65e30c7b74bcf8893cc95dec0d4ce"
      }
     },
     "metadata": {}
    }
   ],
   "source": [
    "# load dataset\n",
    "battery_data = pd.concat([pd.read_csv('data/battery_data/2020-{}.csv'.format(month)) for month in range(4, 10)])\n",
    "battery_data['datetime'] = pd.to_datetime(battery_data['timestamp'], unit='s')\n",
    "battery_data['power'] = battery_data['current'] * battery_data['voltage']\n",
    "# extract and plot one month.\n",
    "subset = battery_data[battery_data['timestamp']<datetime.datetime(2020, 4, 29, 0, 0, 0).timestamp()]\n",
    "plt.figure()\n",
    "# change the key to look for motifs in different datatypes\n",
    "key = 'voltage'\n",
    "plt.plot(subset['datetime'], subset[key])\n",
    "plt.show()\n",
    "# Use this graph to identify the motif you want to search for. Enter the start and end date and time for your motif in the next cell. \n",
    "# Or to use default motifs skip this"
   ]
  },
  {
   "cell_type": "code",
   "execution_count": 34,
   "metadata": {},
   "outputs": [
    {
     "output_type": "display_data",
     "data": {
      "text/plain": "Canvas(toolbar=Toolbar(toolitems=[('Home', 'Reset original view', 'home', 'home'), ('Back', 'Back to previous …",
      "application/vnd.jupyter.widget-view+json": {
       "version_major": 2,
       "version_minor": 0,
       "model_id": "32ca29eb66ad422886cddf4cd1a0ceae"
      }
     },
     "metadata": {}
    },
    {
     "output_type": "execute_result",
     "data": {
      "text/plain": [
       "[<matplotlib.lines.Line2D at 0x1f387f53708>]"
      ]
     },
     "metadata": {},
     "execution_count": 34
    }
   ],
   "source": [
    "# Enter the start and end date and time for your motif here. Note that for some reason you need to add one hour on\n",
    "# here are some premade motifs\n",
    "\n",
    "# voltage hour\n",
    "# motif = battery_data[(datetime.datetime(2020, 4, 2, 12, 30, 47).timestamp() < battery_data['timestamp']) &\n",
    "#                      (datetime.datetime(2020, 4, 2, 13, 33, 57).timestamp() > battery_data['timestamp'])]\n",
    "\n",
    "# voltage charge\n",
    "# so here we are just searching for the charge part of the cycle\n",
    "motif = battery_data[(datetime.datetime(2020, 4, 2, 15, 26, 50).timestamp() < battery_data['timestamp']) &\n",
    "                     (datetime.datetime(2020, 4, 2, 15, 34, 38).timestamp() > battery_data['timestamp'])]\n",
    "\n",
    "# power charging\n",
    "# motif = battery_data[(datetime.datetime(2020, 4, 2, 13, 29, 38).timestamp() < battery_data['timestamp']) &\n",
    "#                      (datetime.datetime(2020, 4, 2, 13, 33, 56).timestamp() > battery_data['timestamp'])]\n",
    "\n",
    "\n",
    "# current charging\n",
    "# motif = battery_data[(datetime.datetime(2020, 4, 2, 13, 29, 37).timestamp() < battery_data['timestamp']) &\n",
    "#                      (datetime.datetime(2020, 4, 2, 13, 33, 58).timestamp() > battery_data['timestamp'])]\n",
    "# current hour\n",
    "# motif = battery_data[(datetime.datetime(2020, 4, 2, 12, 30, 53).timestamp() < battery_data['timestamp']) &\n",
    "#                      (datetime.datetime(2020, 4, 2, 13, 34, 8).timestamp() > battery_data['timestamp'])]\n",
    "\n",
    "# day\n",
    "# motif = battery_data[(datetime.datetime(2020, 4, 2, 11, 34, 3).timestamp() < battery_data['timestamp']) &\n",
    "#                      (datetime.datetime(2020, 4, 3, 5, 1, 17).timestamp() > battery_data['timestamp'])]\n",
    "\n",
    "\n",
    "# The data is very high resolution, so it can be slow to search. Best to reduce resolution with sampling\n",
    "# normalise the motif to mean of zero for comparison\n",
    "sampling = 5\n",
    "# plot the motif\n",
    "plt.figure()\n",
    "data, motif = battery_data[::sampling][key].to_numpy(), motif[::sampling][key].to_numpy()\n",
    "plt.plot(motif)\n",
    "# This is the motif we will search for"
   ]
  },
  {
   "cell_type": "code",
   "execution_count": 35,
   "metadata": {},
   "outputs": [],
   "source": [
    "\n",
    "motif_norm = motif - np.mean(motif)\n",
    "\n",
    "l = len(motif)\n",
    "errors = []\n",
    "for start in range(data.shape[0] - l):\n",
    "    samp = data[start:start + l] - np.mean(data[start:start + l])\n",
    "    errors.append(np.mean((samp - motif_norm)**2))"
   ]
  },
  {
   "cell_type": "code",
   "execution_count": 36,
   "metadata": {},
   "outputs": [
    {
     "output_type": "display_data",
     "data": {
      "text/plain": "Canvas(toolbar=Toolbar(toolitems=[('Home', 'Reset original view', 'home', 'home'), ('Back', 'Back to previous …",
      "application/vnd.jupyter.widget-view+json": {
       "version_major": 2,
       "version_minor": 0,
       "model_id": "f555101f861248a4b50cbbafae7060bc"
      }
     },
     "metadata": {}
    }
   ],
   "source": [
    "plt.figure()\n",
    "plt.plot(errors)\n",
    "plt.show()\n",
    "# Zoom in very far to see the errors near to zero - these are the parts of the data which fit the motif"
   ]
  },
  {
   "cell_type": "code",
   "execution_count": 45,
   "metadata": {},
   "outputs": [
    {
     "output_type": "display_data",
     "data": {
      "text/plain": "Canvas(toolbar=Toolbar(toolitems=[('Home', 'Reset original view', 'home', 'home'), ('Back', 'Back to previous …",
      "application/vnd.jupyter.widget-view+json": {
       "version_major": 2,
       "version_minor": 0,
       "model_id": "c441f7bbb6dd408aa33c12b37e018a5c"
      }
     },
     "metadata": {}
    },
    {
     "output_type": "stream",
     "name": "stdout",
     "text": [
      "1066\n"
     ]
    }
   ],
   "source": [
    "# Using the above graph we determine a cutoff of 0.0001 in this case\n",
    "# now we can plot superimposed current, voltage and power for all cases\n",
    "# You can change the error cut off to edit the cuttoff \n",
    "\n",
    "error_cutoff = 0.00002\n",
    "dataset = []\n",
    "prev_start = - l\n",
    "n = 0\n",
    "fig, axs = plt.subplots(3)\n",
    "fig.set_size_inches(12, 10)\n",
    "powers = []\n",
    "for start, error in enumerate(errors):\n",
    "    if (error < error_cutoff) & (start - l >= prev_start):\n",
    "        prev_start = start\n",
    "        c = start/len(errors)\n",
    "        # plt.plot(data[start:start + l] - np.mean(data[start:start + l]) - motif, color = (c, 1-c, 0), alpha=0.02)\n",
    "        for ax, key in zip(axs.ravel(), ['current', 'voltage', 'power']):\n",
    "            data = battery_data[key][::sampling].to_numpy()\n",
    "            ax.plot(data[start:start + l], color = (c, 1-c, 1-c), alpha=0.01)\n",
    "            ax.set_ylabel(key)\n",
    "            if key == 'power':\n",
    "                powers.append(data[start:start + l])\n",
    "\n",
    "        # plt.plot(, color = (1, 1, 0), alpha=1)\n",
    "        dataset.append(data[start:start + l])\n",
    "        n+=1\n",
    "print(n)\n",
    "plt.show()\n",
    "# within the full six month data, red represents motifs found early  during battery lifetime > cyan is late \n"
   ]
  },
  {
   "cell_type": "code",
   "execution_count": 46,
   "metadata": {},
   "outputs": [
    {
     "output_type": "display_data",
     "data": {
      "text/plain": "Canvas(toolbar=Toolbar(toolitems=[('Home', 'Reset original view', 'home', 'home'), ('Back', 'Back to previous …",
      "application/vnd.jupyter.widget-view+json": {
       "version_major": 2,
       "version_minor": 0,
       "model_id": "700a8c4a041e43e58fb0de298dab1053"
      }
     },
     "metadata": {}
    },
    {
     "output_type": "execute_result",
     "data": {
      "text/plain": [
       "[<matplotlib.lines.Line2D at 0x1f49afb8408>]"
      ]
     },
     "metadata": {},
     "execution_count": 46
    }
   ],
   "source": [
    "# plot total energy input during charge\n",
    "plt.figure()\n",
    "plt.plot(np.mean(np.array(powers), axis=1))"
   ]
  },
  {
   "cell_type": "code",
   "execution_count": null,
   "metadata": {},
   "outputs": [],
   "source": [
    "\n",
    "# plot a 'heatmap' where color represents variance from the mean, and each rom is a different\n",
    "plt.figure()\n",
    "plt.imshow(np.array(dataset - np.mean(dataset, axis=0)))"
   ]
  },
  {
   "cell_type": "code",
   "execution_count": 7,
   "metadata": {},
   "outputs": [
    {
     "output_type": "display_data",
     "data": {
      "text/plain": "Canvas(toolbar=Toolbar(toolitems=[('Home', 'Reset original view', 'home', 'home'), ('Back', 'Back to previous …",
      "application/vnd.jupyter.widget-view+json": {
       "version_major": 2,
       "version_minor": 0,
       "model_id": "6944f32dfd4242c99167a40225659c18"
      }
     },
     "metadata": {}
    }
   ],
   "source": [
    "plt.figure()\n",
    "step = 100\n",
    "for s in range(0, n-step, step):\n",
    "    plt.plot(abs(np.mean(dataset[s:s+step] - np.mean(dataset, axis=0), axis=0)), c =( s/887, 1-s/887, 1-s/887), linewidth=0.7)\n",
    "    # plt.plot(np.mean(dataset[s:s+step] - np.mean(dataset, axis=0), axis=0), c =( s/887, 1-s/887, 1-s/887), linewidth=0.7)\n"
   ]
  },
  {
   "cell_type": "code",
   "execution_count": null,
   "metadata": {},
   "outputs": [],
   "source": []
  },
  {
   "cell_type": "code",
   "execution_count": null,
   "metadata": {},
   "outputs": [],
   "source": []
  }
 ]
}